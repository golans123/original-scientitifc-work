
import sys
sys.path.append("../")
from utils import *

w0, w1 = 1, 2


x = np.linspace(0, 100, 10)
y = w1*x + w0


fig = go.Figure([go.Scatter(x=x, y=y, name="Real Model", showlegend=True,
                                 marker=dict(color="black", opacity=.7), line=dict(color="black", dash="dash", width=1))], 
          layout=go.Layout(title=r"$\text{(1) Simulated Data}$",
                           xaxis={"title": "x - Explanatory Variable"},
                           yaxis={"title": "y - Response"},
                           height=400))
fig.show()


from sklearn.linear_model import LinearRegression
noiseless_model = LinearRegression()

print(x)


noiseless_model.fit(x.reshape((-1,1)), y)
print("Estimated intercept:", noiseless_model.intercept_)
print("Estimated coefficient:", noiseless_model.coef_[0])


if "y_" not in locals(): y_ = y
epsilon = np.random.normal(loc=0, scale=40, size=len(x))
y = y_ + epsilon

fig.add_trace(go.Scatter(x=x, y=y, name="Observed Points", mode="markers", line=dict(width=1)))
fig.update_layout(title=r"$\text{(2) Simulated Data - With Noise}$")
fig.show()


from pandas import DataFrame 
model = LinearRegression().fit(x.reshape((-1,1)), y)

DataFrame({"Model":["Noise-less","Noisy"], 
           "Intercept": [noiseless_model.intercept_, model.intercept_],
           "Slope": [noiseless_model.coef_[0], model.coef_[0]]})


response = lambda x1, x2: 5*x1 + .1*x2 + 3

min_x1, min_x2, max_x1, max_x2 = -10, -10, 10, 10
xv1, xv2 = np.meshgrid(np.linspace(min_x1, max_x1, 10), np.linspace(min_x2, max_x2, 10))
surface = response(xv1, xv2)

x = np.random.uniform((min_x1, min_x2), (max_x1, max_x2), (10, 2))
y_ = response(x[:,0], x[:,1])
y = y_ + np.random.normal(0, 30, len(x))

model = LinearRegression().fit(x, y)
y_hat = model.predict(x)

DataFrame({"Coefficient": [rf"$w_{{0}}$".format(i) for i in range(len(model.coef_)+1)],
           "Estimated Value": np.concatenate([[model.intercept_], model.coef_])})
